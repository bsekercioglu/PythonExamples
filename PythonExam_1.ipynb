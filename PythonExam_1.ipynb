{
  "nbformat": 4,
  "nbformat_minor": 0,
  "metadata": {
    "colab": {
      "name": "PythonExam-1.ipynb",
      "provenance": [],
      "collapsed_sections": [],
      "authorship_tag": "ABX9TyMq2BxVcLw36aOWd78eJv2t",
      "include_colab_link": true
    },
    "kernelspec": {
      "name": "python3",
      "display_name": "Python 3"
    },
    "language_info": {
      "name": "python"
    }
  },
  "cells": [
    {
      "cell_type": "markdown",
      "metadata": {
        "id": "view-in-github",
        "colab_type": "text"
      },
      "source": [
        "<a href=\"https://colab.research.google.com/github/bsekercioglu/PythonExamples/blob/main/PythonExam_1.ipynb\" target=\"_parent\"><img src=\"https://colab.research.google.com/assets/colab-badge.svg\" alt=\"Open In Colab\"/></a>"
      ]
    },
    {
      "cell_type": "code",
      "metadata": {
        "colab": {
          "base_uri": "https://localhost:8080/"
        },
        "id": "meC6CR9HvrM8",
        "outputId": "9b82017b-1323-49be-ef10-695f29f153ef"
      },
      "source": [
        "class Dictops(dict):\n",
        "    def __add__(self, other):\n",
        "        copy = self.copy()\n",
        "        copy.update(other)\n",
        "        return copy\n",
        "    def __radd__(self, other):\n",
        "        copy = other.copy()\n",
        "        copy.update(self)\n",
        "        return copy\n",
        "\n",
        "a=Dictops({\"burak\":15,\"ata\":12,\"salma\":18})\n",
        "def keyvalsearch(dcts,key):\n",
        "  try:\n",
        "    return dcts[key]\n",
        "  except KeyError:\n",
        "    return float('nan')\n",
        "\n",
        "print (keyvalsearch(a,\"buraks\"))\n",
        "print (keyvalsearch(a,\"burak\"))\n"
      ],
      "execution_count": null,
      "outputs": [
        {
          "output_type": "stream",
          "text": [
            "nan\n",
            "15\n"
          ],
          "name": "stdout"
        }
      ]
    },
    {
      "cell_type": "code",
      "metadata": {
        "colab": {
          "base_uri": "https://localhost:8080/"
        },
        "id": "WP4orQWc1jIm",
        "outputId": "42c91f06-65a9-447b-ba94-a2fc89cf6486"
      },
      "source": [
        "class Listops():\n",
        "  def __init__(self,inlist):\n",
        "    self.xlist=inlist\n",
        "  def charsearch(self,sval):\n",
        "    for x in self.xlist:\n",
        "      if x.startswith(sval):\n",
        "        return (datas.index(x)+1)\n",
        "\n",
        "data1=Listops(['asdf','dfgh','sdfg','swertq','qtyiu'])\n",
        "print (data1.charsearch('s'))"
      ],
      "execution_count": null,
      "outputs": [
        {
          "output_type": "stream",
          "text": [
            "3\n"
          ],
          "name": "stdout"
        }
      ]
    },
    {
      "cell_type": "code",
      "metadata": {
        "colab": {
          "base_uri": "https://localhost:8080/"
        },
        "id": "rQpruCKT7VTm",
        "outputId": "deaca6fe-a459-413d-9b9b-6d87bf8076f9"
      },
      "source": [
        "import re\n",
        "liste=[]\n",
        "listlast=[]\n",
        "def sget(string):\n",
        "  pattern=\"[cde][0-9]{4}\"\n",
        "  for x in string.split():\n",
        "      if (re.match(pattern, x)):\n",
        "        liste.append(x)\n",
        "  return liste\n",
        "\n",
        "def findall(liste):\n",
        "  pattern=\"[cde]45[0-9]{2}\"\n",
        "  for x in liste:\n",
        "      if (re.match(pattern, x)):\n",
        "        listlast.append(x)\n",
        "  return listlast\n",
        "\n",
        "veri='a1234 b2345 c3456 d4567 e5678'\n",
        "findall(sget(veri))"
      ],
      "execution_count": 30,
      "outputs": [
        {
          "output_type": "execute_result",
          "data": {
            "text/plain": [
              "['d4567']"
            ]
          },
          "metadata": {
            "tags": []
          },
          "execution_count": 30
        }
      ]
    },
    {
      "cell_type": "code",
      "metadata": {
        "colab": {
          "base_uri": "https://localhost:8080/"
        },
        "id": "jGW83KR8ioZv",
        "outputId": "7340e1dc-f85f-4483-d7f6-83b5ee340e29"
      },
      "source": [
        "x = {\"apple\", \"banana\", \"cherry\"}\n",
        "y = {\"google\", \"microsoft\", \"apple\"}\n",
        "z = {\"fatima\", \"huawei\", \"UK\"}\n",
        "def distprop(A,B,C):\n",
        "  first=A.union(B.intersection(C))\n",
        "  second=(A.union(B)).intersection(A.union(C))\n",
        "  if first==second:\n",
        "    return True\n",
        "  else:\n",
        "    return False\n",
        "\n",
        "distprop(x,y,z)\n"
      ],
      "execution_count": 38,
      "outputs": [
        {
          "output_type": "execute_result",
          "data": {
            "text/plain": [
              "True"
            ]
          },
          "metadata": {
            "tags": []
          },
          "execution_count": 38
        }
      ]
    },
    {
      "cell_type": "code",
      "metadata": {
        "colab": {
          "base_uri": "https://localhost:8080/"
        },
        "id": "jgzFtuXIlz63",
        "outputId": "8a809f91-6537-42ad-d61c-5e1e2db68f43"
      },
      "source": [
        "x = {\"apple\", \"banana\", \"cherry\"}\n",
        "y = {\"google\", \"microsoft\", \"apple\"}\n",
        "z = {\"fatima\", \"huawei\", \"UK\"}\n",
        "def demorgan2(V,A,B):\n",
        "  first=V.difference(A.union(B))\n",
        "  second=(V.difference(A)).union(V.difference(B))\n",
        "  if first==second:\n",
        "    return True\n",
        "  else:\n",
        "    return False\n",
        "\n",
        "demorgan2(x,y,z)\n"
      ],
      "execution_count": 39,
      "outputs": [
        {
          "output_type": "execute_result",
          "data": {
            "text/plain": [
              "False"
            ]
          },
          "metadata": {
            "tags": []
          },
          "execution_count": 39
        }
      ]
    }
  ]
}