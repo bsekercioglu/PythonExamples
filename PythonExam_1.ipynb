{
  "nbformat": 4,
  "nbformat_minor": 0,
  "metadata": {
    "colab": {
      "name": "PythonExam-1.ipynb",
      "provenance": [],
      "collapsed_sections": [],
      "authorship_tag": "ABX9TyNejYA3I+7g53H70ZOJI2lE",
      "include_colab_link": true
    },
    "kernelspec": {
      "name": "python3",
      "display_name": "Python 3"
    },
    "language_info": {
      "name": "python"
    }
  },
  "cells": [
    {
      "cell_type": "markdown",
      "metadata": {
        "id": "view-in-github",
        "colab_type": "text"
      },
      "source": [
        "<a href=\"https://colab.research.google.com/github/bsekercioglu/PythonExamples/blob/main/PythonExam_1.ipynb\" target=\"_parent\"><img src=\"https://colab.research.google.com/assets/colab-badge.svg\" alt=\"Open In Colab\"/></a>"
      ]
    },
    {
      "cell_type": "code",
      "metadata": {
        "colab": {
          "base_uri": "https://localhost:8080/"
        },
        "id": "meC6CR9HvrM8",
        "outputId": "9b82017b-1323-49be-ef10-695f29f153ef"
      },
      "source": [
        "class Dictops(dict):\n",
        "    def __add__(self, other):\n",
        "        copy = self.copy()\n",
        "        copy.update(other)\n",
        "        return copy\n",
        "    def __radd__(self, other):\n",
        "        copy = other.copy()\n",
        "        copy.update(self)\n",
        "        return copy\n",
        "\n",
        "a=Dictops({\"burak\":15,\"ata\":12,\"salma\":18})\n",
        "def keyvalsearch(dcts,key):\n",
        "  try:\n",
        "    return dcts[key]\n",
        "  except KeyError:\n",
        "    return float('nan')\n",
        "\n",
        "print (keyvalsearch(a,\"buraks\"))\n",
        "print (keyvalsearch(a,\"burak\"))\n"
      ],
      "execution_count": null,
      "outputs": [
        {
          "output_type": "stream",
          "text": [
            "nan\n",
            "15\n"
          ],
          "name": "stdout"
        }
      ]
    },
    {
      "cell_type": "code",
      "metadata": {
        "colab": {
          "base_uri": "https://localhost:8080/"
        },
        "id": "WP4orQWc1jIm",
        "outputId": "42c91f06-65a9-447b-ba94-a2fc89cf6486"
      },
      "source": [
        "class Listops():\n",
        "  def __init__(self,inlist):\n",
        "    self.xlist=inlist\n",
        "  def charsearch(self,sval):\n",
        "    for x in self.xlist:\n",
        "      if x.startswith(sval):\n",
        "        return (datas.index(x)+1)\n",
        "\n",
        "data1=Listops(['asdf','dfgh','sdfg','swertq','qtyiu'])\n",
        "print (data1.charsearch('s'))"
      ],
      "execution_count": null,
      "outputs": [
        {
          "output_type": "stream",
          "text": [
            "3\n"
          ],
          "name": "stdout"
        }
      ]
    },
    {
      "cell_type": "code",
      "metadata": {
        "colab": {
          "base_uri": "https://localhost:8080/"
        },
        "id": "rQpruCKT7VTm",
        "outputId": "0fd90a7e-7498-41f2-a533-813178913c52"
      },
      "source": [
        "import re\n",
        "liste=[]\n",
        "def sget(string):\n",
        "  pattern=\"[cde][0-9]{4}\"\n",
        "  for x in string.split():\n",
        "      if (re.match(pattern, x)):\n",
        "        liste.append(x)\n",
        "  return liste\n",
        "\n",
        "veri='a1234 b2345 c3456 d4567 e5678'\n",
        "sget(veri)"
      ],
      "execution_count": null,
      "outputs": [
        {
          "output_type": "execute_result",
          "data": {
            "text/plain": [
              "['c3456', 'd4567', 'e5678']"
            ]
          },
          "metadata": {
            "tags": []
          },
          "execution_count": 28
        }
      ]
    }
  ]
}